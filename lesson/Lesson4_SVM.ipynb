{
 "cells": [
  {
   "cell_type": "code",
   "execution_count": 1,
   "metadata": {},
   "outputs": [],
   "source": [
    "from sklearn.pipeline import make_pipeline\n",
    "from sklearn.preprocessing import StandardScaler\n",
    "from sklearn.svm import SVC\n",
    "\n",
    "model = make_pipeline(StandardScaler(), SVC())"
   ]
  },
  {
   "cell_type": "code",
   "execution_count": 4,
   "metadata": {},
   "outputs": [
    {
     "data": {
      "text/html": [
       "<div>\n",
       "<style scoped>\n",
       "    .dataframe tbody tr th:only-of-type {\n",
       "        vertical-align: middle;\n",
       "    }\n",
       "\n",
       "    .dataframe tbody tr th {\n",
       "        vertical-align: top;\n",
       "    }\n",
       "\n",
       "    .dataframe thead th {\n",
       "        text-align: right;\n",
       "    }\n",
       "</style>\n",
       "<table border=\"1\" class=\"dataframe\">\n",
       "  <thead>\n",
       "    <tr style=\"text-align: right;\">\n",
       "      <th></th>\n",
       "      <th>Recency</th>\n",
       "      <th>Frequency</th>\n",
       "      <th>Monetary</th>\n",
       "      <th>Time</th>\n",
       "      <th>Class</th>\n",
       "    </tr>\n",
       "  </thead>\n",
       "  <tbody>\n",
       "    <tr>\n",
       "      <th>0</th>\n",
       "      <td>2</td>\n",
       "      <td>50</td>\n",
       "      <td>12500</td>\n",
       "      <td>98</td>\n",
       "      <td>donated</td>\n",
       "    </tr>\n",
       "    <tr>\n",
       "      <th>1</th>\n",
       "      <td>0</td>\n",
       "      <td>13</td>\n",
       "      <td>3250</td>\n",
       "      <td>28</td>\n",
       "      <td>donated</td>\n",
       "    </tr>\n",
       "    <tr>\n",
       "      <th>2</th>\n",
       "      <td>1</td>\n",
       "      <td>16</td>\n",
       "      <td>4000</td>\n",
       "      <td>35</td>\n",
       "      <td>donated</td>\n",
       "    </tr>\n",
       "    <tr>\n",
       "      <th>3</th>\n",
       "      <td>2</td>\n",
       "      <td>20</td>\n",
       "      <td>5000</td>\n",
       "      <td>45</td>\n",
       "      <td>donated</td>\n",
       "    </tr>\n",
       "    <tr>\n",
       "      <th>4</th>\n",
       "      <td>1</td>\n",
       "      <td>24</td>\n",
       "      <td>6000</td>\n",
       "      <td>77</td>\n",
       "      <td>not donated</td>\n",
       "    </tr>\n",
       "  </tbody>\n",
       "</table>\n",
       "</div>"
      ],
      "text/plain": [
       "   Recency  Frequency  Monetary  Time        Class\n",
       "0        2         50     12500    98      donated\n",
       "1        0         13      3250    28      donated\n",
       "2        1         16      4000    35      donated\n",
       "3        2         20      5000    45      donated\n",
       "4        1         24      6000    77  not donated"
      ]
     },
     "execution_count": 4,
     "metadata": {},
     "output_type": "execute_result"
    }
   ],
   "source": [
    "import pandas as pd\n",
    "data=pd.read_csv(\"../datasets/blood_transfusion.csv\")\n",
    "data.head()"
   ]
  },
  {
   "cell_type": "code",
   "execution_count": 15,
   "metadata": {},
   "outputs": [],
   "source": [
    "from sklearn.model_selection import ShuffleSplit\n",
    "from sklearn.model_selection import cross_validate"
   ]
  },
  {
   "cell_type": "code",
   "execution_count": 6,
   "metadata": {},
   "outputs": [],
   "source": [
    "target=data[\"Class\"]"
   ]
  },
  {
   "cell_type": "code",
   "execution_count": 10,
   "metadata": {},
   "outputs": [
    {
     "data": {
      "text/html": [
       "<div>\n",
       "<style scoped>\n",
       "    .dataframe tbody tr th:only-of-type {\n",
       "        vertical-align: middle;\n",
       "    }\n",
       "\n",
       "    .dataframe tbody tr th {\n",
       "        vertical-align: top;\n",
       "    }\n",
       "\n",
       "    .dataframe thead th {\n",
       "        text-align: right;\n",
       "    }\n",
       "</style>\n",
       "<table border=\"1\" class=\"dataframe\">\n",
       "  <thead>\n",
       "    <tr style=\"text-align: right;\">\n",
       "      <th></th>\n",
       "      <th>Recency</th>\n",
       "      <th>Frequency</th>\n",
       "      <th>Monetary</th>\n",
       "      <th>Time</th>\n",
       "    </tr>\n",
       "  </thead>\n",
       "  <tbody>\n",
       "    <tr>\n",
       "      <th>0</th>\n",
       "      <td>2</td>\n",
       "      <td>50</td>\n",
       "      <td>12500</td>\n",
       "      <td>98</td>\n",
       "    </tr>\n",
       "    <tr>\n",
       "      <th>1</th>\n",
       "      <td>0</td>\n",
       "      <td>13</td>\n",
       "      <td>3250</td>\n",
       "      <td>28</td>\n",
       "    </tr>\n",
       "    <tr>\n",
       "      <th>2</th>\n",
       "      <td>1</td>\n",
       "      <td>16</td>\n",
       "      <td>4000</td>\n",
       "      <td>35</td>\n",
       "    </tr>\n",
       "    <tr>\n",
       "      <th>3</th>\n",
       "      <td>2</td>\n",
       "      <td>20</td>\n",
       "      <td>5000</td>\n",
       "      <td>45</td>\n",
       "    </tr>\n",
       "    <tr>\n",
       "      <th>4</th>\n",
       "      <td>1</td>\n",
       "      <td>24</td>\n",
       "      <td>6000</td>\n",
       "      <td>77</td>\n",
       "    </tr>\n",
       "  </tbody>\n",
       "</table>\n",
       "</div>"
      ],
      "text/plain": [
       "   Recency  Frequency  Monetary  Time\n",
       "0        2         50     12500    98\n",
       "1        0         13      3250    28\n",
       "2        1         16      4000    35\n",
       "3        2         20      5000    45\n",
       "4        1         24      6000    77"
      ]
     },
     "execution_count": 10,
     "metadata": {},
     "output_type": "execute_result"
    }
   ],
   "source": [
    "features=data.drop(columns=[\"Class\"])\n",
    "features.head()"
   ]
  },
  {
   "cell_type": "code",
   "execution_count": 23,
   "metadata": {},
   "outputs": [
    {
     "data": {
      "text/plain": [
       "(748, 4)"
      ]
     },
     "execution_count": 23,
     "metadata": {},
     "output_type": "execute_result"
    }
   ],
   "source": [
    "features.shape"
   ]
  },
  {
   "cell_type": "code",
   "execution_count": 32,
   "metadata": {},
   "outputs": [],
   "source": [
    "# ShuffleSplit?\n",
    "\n",
    "sp=ShuffleSplit(n_splits=10,test_size=0.2, random_state=42)"
   ]
  },
  {
   "cell_type": "code",
   "execution_count": 33,
   "metadata": {},
   "outputs": [
    {
     "data": {
      "text/plain": [
       "sklearn.model_selection._split.ShuffleSplit"
      ]
     },
     "execution_count": 33,
     "metadata": {},
     "output_type": "execute_result"
    }
   ],
   "source": [
    "type(sp)\n"
   ]
  },
  {
   "cell_type": "code",
   "execution_count": 34,
   "metadata": {},
   "outputs": [],
   "source": [
    "cv_results=cross_validate(\n",
    "    model,\n",
    "    features,\n",
    "    target,\n",
    "    cv=sp, \n",
    "    scoring=\"accuracy\", \n",
    "    return_train_score=True, \n",
    "    n_jobs=2)"
   ]
  },
  {
   "cell_type": "code",
   "execution_count": 35,
   "metadata": {},
   "outputs": [
    {
     "data": {
      "text/plain": [
       "{'fit_time': array([0.01054192, 0.01152873, 0.01502943, 0.01217198, 0.01286054,\n",
       "        0.01207852, 0.0153904 , 0.01351905, 0.01518416, 0.01149678]),\n",
       " 'score_time': array([0.00546527, 0.00792956, 0.00807452, 0.00455189, 0.0055058 ,\n",
       "        0.00450253, 0.00427985, 0.00550985, 0.00400782, 0.00515771]),\n",
       " 'test_score': array([0.75333333, 0.83333333, 0.8       , 0.72      , 0.72      ,\n",
       "        0.78      , 0.78      , 0.75333333, 0.82      , 0.80666667]),\n",
       " 'train_score': array([0.79264214, 0.77424749, 0.76755853, 0.79431438, 0.79264214,\n",
       "        0.78929766, 0.78595318, 0.78428094, 0.78929766, 0.79431438])}"
      ]
     },
     "execution_count": 35,
     "metadata": {},
     "output_type": "execute_result"
    }
   ],
   "source": [
    "cv_results"
   ]
  },
  {
   "cell_type": "code",
   "execution_count": 37,
   "metadata": {},
   "outputs": [],
   "source": [
    "from sklearn.model_selection import validation_curve"
   ]
  },
  {
   "cell_type": "code",
   "execution_count": 39,
   "metadata": {},
   "outputs": [],
   "source": [
    "import numpy as np"
   ]
  },
  {
   "cell_type": "code",
   "execution_count": 40,
   "metadata": {},
   "outputs": [],
   "source": [
    "gammas = np.logspace(-3, 2, num=30)\n",
    "param_name = \"svc__gamma\""
   ]
  },
  {
   "cell_type": "code",
   "execution_count": 41,
   "metadata": {},
   "outputs": [],
   "source": [
    "train_scores,test_scores=validation_curve(\n",
    "    model,\n",
    "    features,\n",
    "    target,\n",
    "    param_name=param_name,\n",
    "    param_range=gammas,\n",
    "    cv=sp,\n",
    "    scoring=\"accuracy\",\n",
    "    n_jobs=2\n",
    ")"
   ]
  },
  {
   "cell_type": "code",
   "execution_count": 42,
   "metadata": {},
   "outputs": [
    {
     "data": {
      "text/plain": [
       "array([[0.76421405, 0.74749164, 0.7541806 , 0.77926421, 0.77424749,\n",
       "        0.75083612, 0.75585284, 0.76923077, 0.74749164, 0.75752508],\n",
       "       [0.76421405, 0.74749164, 0.7541806 , 0.77926421, 0.77424749,\n",
       "        0.75083612, 0.75585284, 0.76923077, 0.74749164, 0.75752508],\n",
       "       [0.76421405, 0.74749164, 0.7541806 , 0.77926421, 0.77424749,\n",
       "        0.75083612, 0.75585284, 0.76923077, 0.74749164, 0.75752508],\n",
       "       [0.76421405, 0.74749164, 0.7541806 , 0.77926421, 0.77424749,\n",
       "        0.75083612, 0.75585284, 0.76923077, 0.74749164, 0.75752508],\n",
       "       [0.76421405, 0.74749164, 0.7541806 , 0.77926421, 0.77424749,\n",
       "        0.75250836, 0.75585284, 0.76923077, 0.74916388, 0.75752508],\n",
       "       [0.76588629, 0.75083612, 0.75919732, 0.77926421, 0.77591973,\n",
       "        0.75752508, 0.75752508, 0.77257525, 0.75250836, 0.75752508],\n",
       "       [0.76923077, 0.7541806 , 0.76086957, 0.77926421, 0.77759197,\n",
       "        0.75919732, 0.76254181, 0.77591973, 0.7541806 , 0.76086957],\n",
       "       [0.77090301, 0.75585284, 0.76254181, 0.77926421, 0.78093645,\n",
       "        0.75752508, 0.76086957, 0.77759197, 0.7541806 , 0.76254181],\n",
       "       [0.77090301, 0.7541806 , 0.76254181, 0.77926421, 0.77926421,\n",
       "        0.75919732, 0.76254181, 0.77759197, 0.7541806 , 0.76254181],\n",
       "       [0.77090301, 0.75585284, 0.76254181, 0.77926421, 0.7826087 ,\n",
       "        0.76588629, 0.76923077, 0.77759197, 0.75919732, 0.76254181],\n",
       "       [0.77591973, 0.75919732, 0.76421405, 0.77926421, 0.78595318,\n",
       "        0.76923077, 0.77257525, 0.77759197, 0.75919732, 0.76254181],\n",
       "       [0.77926421, 0.76086957, 0.76923077, 0.78093645, 0.78595318,\n",
       "        0.77257525, 0.77591973, 0.77759197, 0.76588629, 0.76588629],\n",
       "       [0.77926421, 0.76421405, 0.77090301, 0.78762542, 0.78929766,\n",
       "        0.76923077, 0.77759197, 0.77759197, 0.76086957, 0.76588629],\n",
       "       [0.78929766, 0.75919732, 0.76588629, 0.7909699 , 0.7909699 ,\n",
       "        0.77257525, 0.77424749, 0.78093645, 0.77424749, 0.7826087 ],\n",
       "       [0.79264214, 0.77591973, 0.76755853, 0.79264214, 0.79264214,\n",
       "        0.78762542, 0.78595318, 0.78595318, 0.79431438, 0.79431438],\n",
       "       [0.80100334, 0.79264214, 0.78762542, 0.81605351, 0.79264214,\n",
       "        0.78762542, 0.7993311 , 0.78428094, 0.80434783, 0.80434783],\n",
       "       [0.80100334, 0.79264214, 0.79264214, 0.82274247, 0.7993311 ,\n",
       "        0.7993311 , 0.80434783, 0.7826087 , 0.80769231, 0.80267559],\n",
       "       [0.80434783, 0.79598662, 0.80434783, 0.82441472, 0.80936455,\n",
       "        0.80434783, 0.80769231, 0.7909699 , 0.81270903, 0.80769231],\n",
       "       [0.81438127, 0.80100334, 0.80267559, 0.83277592, 0.81605351,\n",
       "        0.81270903, 0.81772575, 0.80267559, 0.81270903, 0.80769231],\n",
       "       [0.82107023, 0.80434783, 0.81438127, 0.83110368, 0.82274247,\n",
       "        0.81270903, 0.82107023, 0.80769231, 0.81772575, 0.81438127],\n",
       "       [0.82107023, 0.81103679, 0.81438127, 0.83779264, 0.83110368,\n",
       "        0.81605351, 0.82441472, 0.82274247, 0.82107023, 0.82274247],\n",
       "       [0.83110368, 0.81939799, 0.82107023, 0.84782609, 0.84615385,\n",
       "        0.8277592 , 0.83444816, 0.83110368, 0.82943144, 0.82608696],\n",
       "       [0.84280936, 0.83946488, 0.83779264, 0.85953177, 0.85618729,\n",
       "        0.83444816, 0.84615385, 0.83444816, 0.84949833, 0.8361204 ],\n",
       "       [0.85618729, 0.84949833, 0.84782609, 0.86789298, 0.86454849,\n",
       "        0.84280936, 0.84782609, 0.84448161, 0.85618729, 0.85284281],\n",
       "       [0.86956522, 0.85785953, 0.86287625, 0.88628763, 0.8812709 ,\n",
       "        0.86287625, 0.86789298, 0.86956522, 0.86956522, 0.87123746],\n",
       "       [0.88294314, 0.86789298, 0.86622074, 0.89130435, 0.87625418,\n",
       "        0.87959866, 0.87625418, 0.87959866, 0.87792642, 0.87792642],\n",
       "       [0.89130435, 0.8812709 , 0.8812709 , 0.90133779, 0.88795987,\n",
       "        0.88795987, 0.88294314, 0.88795987, 0.88628763, 0.88628763],\n",
       "       [0.90301003, 0.88963211, 0.8812709 , 0.90133779, 0.89632107,\n",
       "        0.88963211, 0.89297659, 0.89130435, 0.89297659, 0.88795987],\n",
       "       [0.91304348, 0.90468227, 0.89297659, 0.9180602 , 0.90802676,\n",
       "        0.90468227, 0.90635452, 0.89799331, 0.909699  , 0.89966555],\n",
       "       [0.91304348, 0.90635452, 0.89799331, 0.91973244, 0.91137124,\n",
       "        0.90468227, 0.90635452, 0.90133779, 0.91304348, 0.90301003]])"
      ]
     },
     "execution_count": 42,
     "metadata": {},
     "output_type": "execute_result"
    }
   ],
   "source": [
    "train_scores"
   ]
  },
  {
   "cell_type": "code",
   "execution_count": 43,
   "metadata": {},
   "outputs": [],
   "source": [
    "import matplotlib.pyplot as plt"
   ]
  },
  {
   "cell_type": "code",
   "execution_count": 47,
   "metadata": {},
   "outputs": [
    {
     "data": {
      "text/plain": [
       "<matplotlib.legend.Legend at 0x1f831c71f10>"
      ]
     },
     "execution_count": 47,
     "metadata": {},
     "output_type": "execute_result"
    },
    {
     "data": {
      "image/png": "[encoded data removed]",
      "text/plain": [
       "<Figure size 640x480 with 1 Axes>"
      ]
     },
     "metadata": {},
     "output_type": "display_data"
    }
   ],
   "source": [
    "plt.errorbar(gammas,train_scores.mean(axis=1),yerr=train_scores.std(axis=1), label=\"train score\")\n",
    "plt.errorbar(gammas,test_scores.mean(axis=1),yerr=test_scores.std(axis=1), label=\"test score\")\n",
    "# plt.errorbar(max_depth,test_errors.mean(axis=1), yerr=test_errors.std(axis=1),label = \"Test error\")\n",
    "plt.xscale(\"log\")\n",
    "plt.legend()"
   ]
  },
  {
   "cell_type": "code",
   "execution_count": 48,
   "metadata": {},
   "outputs": [],
   "source": [
    "from sklearn.model_selection import learning_curve"
   ]
  },
  {
   "cell_type": "code",
   "execution_count": 49,
   "metadata": {},
   "outputs": [],
   "source": [
    "train_sizes = np.linspace(0.1, 1, num=10)\n"
   ]
  },
  {
   "cell_type": "code",
   "execution_count": 50,
   "metadata": {},
   "outputs": [],
   "source": [
    "results=learning_curve(\n",
    "    model,\n",
    "    features,\n",
    "    target,\n",
    "    train_sizes=train_sizes,\n",
    "    cv=sp,\n",
    "    scoring=\"accuracy\",\n",
    "    n_jobs=2\n",
    ")"
   ]
  },
  {
   "cell_type": "code",
   "execution_count": 51,
   "metadata": {},
   "outputs": [
    {
     "data": {
      "text/plain": [
       "(array([ 59, 119, 179, 239, 299, 358, 418, 478, 538, 598]),\n",
       " array([[0.74576271, 0.79661017, 0.79661017, 0.89830508, 0.77966102,\n",
       "         0.77966102, 0.76271186, 0.77966102, 0.76271186, 0.79661017],\n",
       "        [0.74789916, 0.80672269, 0.77310924, 0.88235294, 0.79831933,\n",
       "         0.74789916, 0.79831933, 0.79831933, 0.78151261, 0.79831933],\n",
       "        [0.74860335, 0.7877095 , 0.74301676, 0.82681564, 0.81005587,\n",
       "         0.76536313, 0.7877095 , 0.81564246, 0.80446927, 0.80446927],\n",
       "        [0.75732218, 0.78661088, 0.76569038, 0.84518828, 0.78242678,\n",
       "         0.78242678, 0.78242678, 0.78661088, 0.76987448, 0.77824268],\n",
       "        [0.75250836, 0.80267559, 0.77926421, 0.81939799, 0.79264214,\n",
       "         0.77591973, 0.79264214, 0.77257525, 0.76923077, 0.79264214],\n",
       "        [0.75977654, 0.80167598, 0.78212291, 0.81005587, 0.79329609,\n",
       "         0.76536313, 0.79050279, 0.7849162 , 0.7877095 , 0.79050279],\n",
       "        [0.77751196, 0.79904306, 0.77272727, 0.81100478, 0.79665072,\n",
       "         0.77272727, 0.78947368, 0.76315789, 0.77751196, 0.79425837],\n",
       "        [0.78242678, 0.78870293, 0.77615063, 0.80125523, 0.80125523,\n",
       "         0.78033473, 0.78033473, 0.77405858, 0.77615063, 0.79079498],\n",
       "        [0.79553903, 0.78066914, 0.78252788, 0.79182156, 0.78252788,\n",
       "         0.78438662, 0.78438662, 0.78624535, 0.78624535, 0.7936803 ],\n",
       "        [0.79264214, 0.77424749, 0.76755853, 0.79431438, 0.79264214,\n",
       "         0.78929766, 0.78595318, 0.78428094, 0.78929766, 0.79431438]]),\n",
       " array([[0.72666667, 0.82      , 0.79333333, 0.73333333, 0.71333333,\n",
       "         0.79333333, 0.78666667, 0.73333333, 0.82      , 0.78      ],\n",
       "        [0.76666667, 0.82      , 0.80666667, 0.73333333, 0.72      ,\n",
       "         0.80666667, 0.78666667, 0.73333333, 0.82      , 0.78      ],\n",
       "        [0.76      , 0.83333333, 0.79333333, 0.70666667, 0.74      ,\n",
       "         0.82      , 0.79333333, 0.73333333, 0.82      , 0.78      ],\n",
       "        [0.75333333, 0.85333333, 0.8       , 0.72      , 0.74      ,\n",
       "         0.82      , 0.78666667, 0.73333333, 0.83333333, 0.77333333],\n",
       "        [0.75333333, 0.84666667, 0.79333333, 0.71333333, 0.73333333,\n",
       "         0.8       , 0.79333333, 0.75333333, 0.82666667, 0.78      ],\n",
       "        [0.74666667, 0.85333333, 0.78666667, 0.7       , 0.74      ,\n",
       "         0.80666667, 0.78      , 0.74      , 0.83333333, 0.79333333],\n",
       "        [0.75333333, 0.84666667, 0.79333333, 0.7       , 0.74666667,\n",
       "         0.81333333, 0.78      , 0.75333333, 0.82666667, 0.78      ],\n",
       "        [0.74666667, 0.86      , 0.79333333, 0.71333333, 0.75333333,\n",
       "         0.79333333, 0.78666667, 0.74666667, 0.82666667, 0.8       ],\n",
       "        [0.75333333, 0.86      , 0.79333333, 0.71333333, 0.76666667,\n",
       "         0.8       , 0.77333333, 0.75333333, 0.82      , 0.78666667],\n",
       "        [0.75333333, 0.83333333, 0.8       , 0.72      , 0.72      ,\n",
       "         0.78      , 0.78      , 0.75333333, 0.82      , 0.80666667]]))"
      ]
     },
     "execution_count": 51,
     "metadata": {},
     "output_type": "execute_result"
    }
   ],
   "source": [
    "results"
   ]
  },
  {
   "cell_type": "code",
   "execution_count": 52,
   "metadata": {},
   "outputs": [],
   "source": [
    "train_size,train_scores,test_scores=results[:3]"
   ]
  },
  {
   "cell_type": "code",
   "execution_count": 55,
   "metadata": {},
   "outputs": [
    {
     "data": {
      "text/plain": [
       "Text(0, 0.5, 'Mean scores (accuracy)')"
      ]
     },
     "execution_count": 55,
     "metadata": {},
     "output_type": "execute_result"
    },
    {
     "data": {
      "image/png": "[encoded data removed]",
      "text/plain": [
       "<Figure size 640x480 with 1 Axes>"
      ]
     },
     "metadata": {},
     "output_type": "display_data"
    }
   ],
   "source": [
    "plt.errorbar(train_size,test_scores.mean(axis=1),yerr=test_scores.std(axis=1), label=\"test scores\")\n",
    "plt.errorbar(train_size,train_scores.mean(axis=1),yerr=train_scores.std(axis=1), label=\"train scores\")\n",
    "\n",
    "plt.legend()\n",
    "#plt.xscale(\"log\")\n",
    "plt.xlabel(\"Number of samples in the training set\")\n",
    "plt.ylabel(\"Mean scores (accuracy)\")"
   ]
  }
 ],
 "metadata": {
  "kernelspec": {
   "display_name": "scikit-learn-course",
   "language": "python",
   "name": "python3"
  },
  "language_info": {
   "codemirror_mode": {
    "name": "ipython",
    "version": 3
   },
   "file_extension": ".py",
   "mimetype": "text/x-python",
   "name": "python",
   "nbconvert_exporter": "python",
   "pygments_lexer": "ipython3",
   "version": "3.11.0"
  },
  "orig_nbformat": 4,
  "vscode": {
   "interpreter": {
    "hash": "27b26e275e4136e28dc2ad937f9c072e10e8a0b1e9b90b40146ce03199647dbb"
   }
  }
 },
 "nbformat": 4,
 "nbformat_minor": 2
}
