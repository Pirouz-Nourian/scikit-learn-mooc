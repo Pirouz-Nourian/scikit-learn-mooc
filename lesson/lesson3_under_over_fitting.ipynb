{
 "cells": [
  {
   "cell_type": "code",
   "execution_count": 34,
   "metadata": {},
   "outputs": [],
   "source": [
    "from sklearn.datasets import fetch_california_housing"
   ]
  },
  {
   "cell_type": "code",
   "execution_count": 35,
   "metadata": {},
   "outputs": [],
   "source": [
    "housing=fetch_california_housing(as_frame=True)"
   ]
  },
  {
   "cell_type": "code",
   "execution_count": 36,
   "metadata": {},
   "outputs": [],
   "source": [
    "data,target=housing.data,housing.target"
   ]
  },
  {
   "cell_type": "code",
   "execution_count": 37,
   "metadata": {},
   "outputs": [
    {
     "data": {
      "text/plain": [
       "0        4.526\n",
       "1        3.585\n",
       "2        3.521\n",
       "3        3.413\n",
       "4        3.422\n",
       "         ...  \n",
       "20635    0.781\n",
       "20636    0.771\n",
       "20637    0.923\n",
       "20638    0.847\n",
       "20639    0.894\n",
       "Name: MedHouseVal, Length: 20640, dtype: float64"
      ]
     },
     "execution_count": 37,
     "metadata": {},
     "output_type": "execute_result"
    }
   ],
   "source": [
    "target"
   ]
  },
  {
   "cell_type": "code",
   "execution_count": 38,
   "metadata": {},
   "outputs": [
    {
     "data": {
      "text/plain": [
       "0        452.6\n",
       "1        358.5\n",
       "2        352.1\n",
       "3        341.3\n",
       "4        342.2\n",
       "         ...  \n",
       "20635     78.1\n",
       "20636     77.1\n",
       "20637     92.3\n",
       "20638     84.7\n",
       "20639     89.4\n",
       "Name: MedHouseVal, Length: 20640, dtype: float64"
      ]
     },
     "execution_count": 38,
     "metadata": {},
     "output_type": "execute_result"
    }
   ],
   "source": [
    "target *=100\n",
    "target"
   ]
  },
  {
   "cell_type": "code",
   "execution_count": 39,
   "metadata": {},
   "outputs": [],
   "source": [
    "from sklearn.tree import DecisionTreeRegressor"
   ]
  },
  {
   "cell_type": "code",
   "execution_count": 40,
   "metadata": {},
   "outputs": [
    {
     "name": "stdout",
     "output_type": "stream",
     "text": [
      "\u001b[1;31mInit signature:\u001b[0m\n",
      "\u001b[0mDecisionTreeRegressor\u001b[0m\u001b[1;33m(\u001b[0m\u001b[1;33m\n",
      "\u001b[0m    \u001b[1;33m*\u001b[0m\u001b[1;33m,\u001b[0m\u001b[1;33m\n",
      "\u001b[0m    \u001b[0mcriterion\u001b[0m\u001b[1;33m=\u001b[0m\u001b[1;34m'squared_error'\u001b[0m\u001b[1;33m,\u001b[0m\u001b[1;33m\n",
      "\u001b[0m    \u001b[0msplitter\u001b[0m\u001b[1;33m=\u001b[0m\u001b[1;34m'best'\u001b[0m\u001b[1;33m,\u001b[0m\u001b[1;33m\n",
      "\u001b[0m    \u001b[0mmax_depth\u001b[0m\u001b[1;33m=\u001b[0m\u001b[1;32mNone\u001b[0m\u001b[1;33m,\u001b[0m\u001b[1;33m\n",
      "\u001b[0m    \u001b[0mmin_samples_split\u001b[0m\u001b[1;33m=\u001b[0m\u001b[1;36m2\u001b[0m\u001b[1;33m,\u001b[0m\u001b[1;33m\n",
      "\u001b[0m    \u001b[0mmin_samples_leaf\u001b[0m\u001b[1;33m=\u001b[0m\u001b[1;36m1\u001b[0m\u001b[1;33m,\u001b[0m\u001b[1;33m\n",
      "\u001b[0m    \u001b[0mmin_weight_fraction_leaf\u001b[0m\u001b[1;33m=\u001b[0m\u001b[1;36m0.0\u001b[0m\u001b[1;33m,\u001b[0m\u001b[1;33m\n",
      "\u001b[0m    \u001b[0mmax_features\u001b[0m\u001b[1;33m=\u001b[0m\u001b[1;32mNone\u001b[0m\u001b[1;33m,\u001b[0m\u001b[1;33m\n",
      "\u001b[0m    \u001b[0mrandom_state\u001b[0m\u001b[1;33m=\u001b[0m\u001b[1;32mNone\u001b[0m\u001b[1;33m,\u001b[0m\u001b[1;33m\n",
      "\u001b[0m    \u001b[0mmax_leaf_nodes\u001b[0m\u001b[1;33m=\u001b[0m\u001b[1;32mNone\u001b[0m\u001b[1;33m,\u001b[0m\u001b[1;33m\n",
      "\u001b[0m    \u001b[0mmin_impurity_decrease\u001b[0m\u001b[1;33m=\u001b[0m\u001b[1;36m0.0\u001b[0m\u001b[1;33m,\u001b[0m\u001b[1;33m\n",
      "\u001b[0m    \u001b[0mccp_alpha\u001b[0m\u001b[1;33m=\u001b[0m\u001b[1;36m0.0\u001b[0m\u001b[1;33m,\u001b[0m\u001b[1;33m\n",
      "\u001b[0m\u001b[1;33m)\u001b[0m\u001b[1;33m\u001b[0m\u001b[1;33m\u001b[0m\u001b[0m\n",
      "\u001b[1;31mDocstring:\u001b[0m     \n",
      "A decision tree regressor.\n",
      "\n",
      "Read more in the :ref:`User Guide <tree>`.\n",
      "\n",
      "Parameters\n",
      "----------\n",
      "criterion : {\"squared_error\", \"friedman_mse\", \"absolute_error\",             \"poisson\"}, default=\"squared_error\"\n",
      "    The function to measure the quality of a split. Supported criteria\n",
      "    are \"squared_error\" for the mean squared error, which is equal to\n",
      "    variance reduction as feature selection criterion and minimizes the L2\n",
      "    loss using the mean of each terminal node, \"friedman_mse\", which uses\n",
      "    mean squared error with Friedman's improvement score for potential\n",
      "    splits, \"absolute_error\" for the mean absolute error, which minimizes\n",
      "    the L1 loss using the median of each terminal node, and \"poisson\" which\n",
      "    uses reduction in Poisson deviance to find splits.\n",
      "\n",
      "    .. versionadded:: 0.18\n",
      "       Mean Absolute Error (MAE) criterion.\n",
      "\n",
      "    .. versionadded:: 0.24\n",
      "        Poisson deviance criterion.\n",
      "\n",
      "splitter : {\"best\", \"random\"}, default=\"best\"\n",
      "    The strategy used to choose the split at each node. Supported\n",
      "    strategies are \"best\" to choose the best split and \"random\" to choose\n",
      "    the best random split.\n",
      "\n",
      "max_depth : int, default=None\n",
      "    The maximum depth of the tree. If None, then nodes are expanded until\n",
      "    all leaves are pure or until all leaves contain less than\n",
      "    min_samples_split samples.\n",
      "\n",
      "min_samples_split : int or float, default=2\n",
      "    The minimum number of samples required to split an internal node:\n",
      "\n",
      "    - If int, then consider `min_samples_split` as the minimum number.\n",
      "    - If float, then `min_samples_split` is a fraction and\n",
      "      `ceil(min_samples_split * n_samples)` are the minimum\n",
      "      number of samples for each split.\n",
      "\n",
      "    .. versionchanged:: 0.18\n",
      "       Added float values for fractions.\n",
      "\n",
      "min_samples_leaf : int or float, default=1\n",
      "    The minimum number of samples required to be at a leaf node.\n",
      "    A split point at any depth will only be considered if it leaves at\n",
      "    least ``min_samples_leaf`` training samples in each of the left and\n",
      "    right branches.  This may have the effect of smoothing the model,\n",
      "    especially in regression.\n",
      "\n",
      "    - If int, then consider `min_samples_leaf` as the minimum number.\n",
      "    - If float, then `min_samples_leaf` is a fraction and\n",
      "      `ceil(min_samples_leaf * n_samples)` are the minimum\n",
      "      number of samples for each node.\n",
      "\n",
      "    .. versionchanged:: 0.18\n",
      "       Added float values for fractions.\n",
      "\n",
      "min_weight_fraction_leaf : float, default=0.0\n",
      "    The minimum weighted fraction of the sum total of weights (of all\n",
      "    the input samples) required to be at a leaf node. Samples have\n",
      "    equal weight when sample_weight is not provided.\n",
      "\n",
      "max_features : int, float or {\"auto\", \"sqrt\", \"log2\"}, default=None\n",
      "    The number of features to consider when looking for the best split:\n",
      "\n",
      "    - If int, then consider `max_features` features at each split.\n",
      "    - If float, then `max_features` is a fraction and\n",
      "      `max(1, int(max_features * n_features_in_))` features are considered at each\n",
      "      split.\n",
      "    - If \"auto\", then `max_features=n_features`.\n",
      "    - If \"sqrt\", then `max_features=sqrt(n_features)`.\n",
      "    - If \"log2\", then `max_features=log2(n_features)`.\n",
      "    - If None, then `max_features=n_features`.\n",
      "\n",
      "    .. deprecated:: 1.1\n",
      "        The `\"auto\"` option was deprecated in 1.1 and will be removed\n",
      "        in 1.3.\n",
      "\n",
      "    Note: the search for a split does not stop until at least one\n",
      "    valid partition of the node samples is found, even if it requires to\n",
      "    effectively inspect more than ``max_features`` features.\n",
      "\n",
      "random_state : int, RandomState instance or None, default=None\n",
      "    Controls the randomness of the estimator. The features are always\n",
      "    randomly permuted at each split, even if ``splitter`` is set to\n",
      "    ``\"best\"``. When ``max_features < n_features``, the algorithm will\n",
      "    select ``max_features`` at random at each split before finding the best\n",
      "    split among them. But the best found split may vary across different\n",
      "    runs, even if ``max_features=n_features``. That is the case, if the\n",
      "    improvement of the criterion is identical for several splits and one\n",
      "    split has to be selected at random. To obtain a deterministic behaviour\n",
      "    during fitting, ``random_state`` has to be fixed to an integer.\n",
      "    See :term:`Glossary <random_state>` for details.\n",
      "\n",
      "max_leaf_nodes : int, default=None\n",
      "    Grow a tree with ``max_leaf_nodes`` in best-first fashion.\n",
      "    Best nodes are defined as relative reduction in impurity.\n",
      "    If None then unlimited number of leaf nodes.\n",
      "\n",
      "min_impurity_decrease : float, default=0.0\n",
      "    A node will be split if this split induces a decrease of the impurity\n",
      "    greater than or equal to this value.\n",
      "\n",
      "    The weighted impurity decrease equation is the following::\n",
      "\n",
      "        N_t / N * (impurity - N_t_R / N_t * right_impurity\n",
      "                            - N_t_L / N_t * left_impurity)\n",
      "\n",
      "    where ``N`` is the total number of samples, ``N_t`` is the number of\n",
      "    samples at the current node, ``N_t_L`` is the number of samples in the\n",
      "    left child, and ``N_t_R`` is the number of samples in the right child.\n",
      "\n",
      "    ``N``, ``N_t``, ``N_t_R`` and ``N_t_L`` all refer to the weighted sum,\n",
      "    if ``sample_weight`` is passed.\n",
      "\n",
      "    .. versionadded:: 0.19\n",
      "\n",
      "ccp_alpha : non-negative float, default=0.0\n",
      "    Complexity parameter used for Minimal Cost-Complexity Pruning. The\n",
      "    subtree with the largest cost complexity that is smaller than\n",
      "    ``ccp_alpha`` will be chosen. By default, no pruning is performed. See\n",
      "    :ref:`minimal_cost_complexity_pruning` for details.\n",
      "\n",
      "    .. versionadded:: 0.22\n",
      "\n",
      "Attributes\n",
      "----------\n",
      "feature_importances_ : ndarray of shape (n_features,)\n",
      "    The feature importances.\n",
      "    The higher, the more important the feature.\n",
      "    The importance of a feature is computed as the\n",
      "    (normalized) total reduction of the criterion brought\n",
      "    by that feature. It is also known as the Gini importance [4]_.\n",
      "\n",
      "    Warning: impurity-based feature importances can be misleading for\n",
      "    high cardinality features (many unique values). See\n",
      "    :func:`sklearn.inspection.permutation_importance` as an alternative.\n",
      "\n",
      "max_features_ : int\n",
      "    The inferred value of max_features.\n",
      "\n",
      "n_features_in_ : int\n",
      "    Number of features seen during :term:`fit`.\n",
      "\n",
      "    .. versionadded:: 0.24\n",
      "\n",
      "feature_names_in_ : ndarray of shape (`n_features_in_`,)\n",
      "    Names of features seen during :term:`fit`. Defined only when `X`\n",
      "    has feature names that are all strings.\n",
      "\n",
      "    .. versionadded:: 1.0\n",
      "\n",
      "n_outputs_ : int\n",
      "    The number of outputs when ``fit`` is performed.\n",
      "\n",
      "tree_ : Tree instance\n",
      "    The underlying Tree object. Please refer to\n",
      "    ``help(sklearn.tree._tree.Tree)`` for attributes of Tree object and\n",
      "    :ref:`sphx_glr_auto_examples_tree_plot_unveil_tree_structure.py`\n",
      "    for basic usage of these attributes.\n",
      "\n",
      "See Also\n",
      "--------\n",
      "DecisionTreeClassifier : A decision tree classifier.\n",
      "\n",
      "Notes\n",
      "-----\n",
      "The default values for the parameters controlling the size of the trees\n",
      "(e.g. ``max_depth``, ``min_samples_leaf``, etc.) lead to fully grown and\n",
      "unpruned trees which can potentially be very large on some data sets. To\n",
      "reduce memory consumption, the complexity and size of the trees should be\n",
      "controlled by setting those parameter values.\n",
      "\n",
      "References\n",
      "----------\n",
      "\n",
      ".. [1] https://en.wikipedia.org/wiki/Decision_tree_learning\n",
      "\n",
      ".. [2] L. Breiman, J. Friedman, R. Olshen, and C. Stone, \"Classification\n",
      "       and Regression Trees\", Wadsworth, Belmont, CA, 1984.\n",
      "\n",
      ".. [3] T. Hastie, R. Tibshirani and J. Friedman. \"Elements of Statistical\n",
      "       Learning\", Springer, 2009.\n",
      "\n",
      ".. [4] L. Breiman, and A. Cutler, \"Random Forests\",\n",
      "       https://www.stat.berkeley.edu/~breiman/RandomForests/cc_home.htm\n",
      "\n",
      "Examples\n",
      "--------\n",
      ">>> from sklearn.datasets import load_diabetes\n",
      ">>> from sklearn.model_selection import cross_val_score\n",
      ">>> from sklearn.tree import DecisionTreeRegressor\n",
      ">>> X, y = load_diabetes(return_X_y=True)\n",
      ">>> regressor = DecisionTreeRegressor(random_state=0)\n",
      ">>> cross_val_score(regressor, X, y, cv=10)\n",
      "...                    # doctest: +SKIP\n",
      "...\n",
      "array([-0.39..., -0.46...,  0.02...,  0.06..., -0.50...,\n",
      "       0.16...,  0.11..., -0.73..., -0.30..., -0.00...])\n",
      "\u001b[1;31mFile:\u001b[0m           c:\\users\\pirouz\\anaconda3\\envs\\scikit-learn-course\\lib\\site-packages\\sklearn\\tree\\_classes.py\n",
      "\u001b[1;31mType:\u001b[0m           ABCMeta\n",
      "\u001b[1;31mSubclasses:\u001b[0m     ExtraTreeRegressor"
     ]
    }
   ],
   "source": [
    "?DecisionTreeRegressor"
   ]
  },
  {
   "cell_type": "code",
   "execution_count": 41,
   "metadata": {},
   "outputs": [],
   "source": [
    "# https://scikit-learn.org/stable/modules/classes.html\n",
    "\n",
    "regressor=DecisionTreeRegressor()"
   ]
  },
  {
   "cell_type": "code",
   "execution_count": 42,
   "metadata": {},
   "outputs": [],
   "source": [
    "import pandas as pd\n",
    "from sklearn.model_selection import cross_validate, ShuffleSplit"
   ]
  },
  {
   "cell_type": "code",
   "execution_count": 43,
   "metadata": {},
   "outputs": [],
   "source": [
    "cv=ShuffleSplit(n_splits=30,test_size=0.2)\n",
    "cv_results=cross_validate(\n",
    "    regressor,\n",
    "    data,\n",
    "    target,\n",
    "    cv=cv,\n",
    "    scoring=\"neg_mean_absolute_error\",\n",
    "    return_train_score=True, n_jobs=2\n",
    "    )"
   ]
  },
  {
   "cell_type": "code",
   "execution_count": 44,
   "metadata": {},
   "outputs": [],
   "source": [
    "cv_results=pd.DataFrame(cv_results)"
   ]
  },
  {
   "cell_type": "code",
   "execution_count": 45,
   "metadata": {},
   "outputs": [
    {
     "data": {
      "text/html": [
       "<div>\n",
       "<style scoped>\n",
       "    .dataframe tbody tr th:only-of-type {\n",
       "        vertical-align: middle;\n",
       "    }\n",
       "\n",
       "    .dataframe tbody tr th {\n",
       "        vertical-align: top;\n",
       "    }\n",
       "\n",
       "    .dataframe thead th {\n",
       "        text-align: right;\n",
       "    }\n",
       "</style>\n",
       "<table border=\"1\" class=\"dataframe\">\n",
       "  <thead>\n",
       "    <tr style=\"text-align: right;\">\n",
       "      <th></th>\n",
       "      <th>fit_time</th>\n",
       "      <th>score_time</th>\n",
       "      <th>test_score</th>\n",
       "      <th>train_score</th>\n",
       "    </tr>\n",
       "  </thead>\n",
       "  <tbody>\n",
       "    <tr>\n",
       "      <th>0</th>\n",
       "      <td>0.163779</td>\n",
       "      <td>0.003814</td>\n",
       "      <td>-46.761697</td>\n",
       "      <td>-1.101272e-14</td>\n",
       "    </tr>\n",
       "    <tr>\n",
       "      <th>1</th>\n",
       "      <td>0.165781</td>\n",
       "      <td>0.003824</td>\n",
       "      <td>-45.331120</td>\n",
       "      <td>-3.552714e-15</td>\n",
       "    </tr>\n",
       "    <tr>\n",
       "      <th>2</th>\n",
       "      <td>0.155463</td>\n",
       "      <td>0.004234</td>\n",
       "      <td>-48.418862</td>\n",
       "      <td>-7.318866e-15</td>\n",
       "    </tr>\n",
       "    <tr>\n",
       "      <th>3</th>\n",
       "      <td>0.164849</td>\n",
       "      <td>0.003165</td>\n",
       "      <td>-47.668819</td>\n",
       "      <td>-3.239441e-15</td>\n",
       "    </tr>\n",
       "    <tr>\n",
       "      <th>4</th>\n",
       "      <td>0.152908</td>\n",
       "      <td>0.003000</td>\n",
       "      <td>-46.439042</td>\n",
       "      <td>-1.531247e-14</td>\n",
       "    </tr>\n",
       "    <tr>\n",
       "      <th>5</th>\n",
       "      <td>0.160414</td>\n",
       "      <td>0.002519</td>\n",
       "      <td>-46.263681</td>\n",
       "      <td>-1.352579e-14</td>\n",
       "    </tr>\n",
       "    <tr>\n",
       "      <th>6</th>\n",
       "      <td>0.158770</td>\n",
       "      <td>0.003008</td>\n",
       "      <td>-46.011019</td>\n",
       "      <td>-1.345005e-14</td>\n",
       "    </tr>\n",
       "    <tr>\n",
       "      <th>7</th>\n",
       "      <td>0.158675</td>\n",
       "      <td>0.005005</td>\n",
       "      <td>-46.843043</td>\n",
       "      <td>-3.301407e-15</td>\n",
       "    </tr>\n",
       "    <tr>\n",
       "      <th>8</th>\n",
       "      <td>0.164206</td>\n",
       "      <td>0.003015</td>\n",
       "      <td>-46.565642</td>\n",
       "      <td>-3.470092e-15</td>\n",
       "    </tr>\n",
       "    <tr>\n",
       "      <th>9</th>\n",
       "      <td>0.168729</td>\n",
       "      <td>0.002512</td>\n",
       "      <td>-47.139163</td>\n",
       "      <td>-3.625007e-15</td>\n",
       "    </tr>\n",
       "    <tr>\n",
       "      <th>10</th>\n",
       "      <td>0.165581</td>\n",
       "      <td>0.003567</td>\n",
       "      <td>-46.572645</td>\n",
       "      <td>-1.565328e-14</td>\n",
       "    </tr>\n",
       "    <tr>\n",
       "      <th>11</th>\n",
       "      <td>0.176976</td>\n",
       "      <td>0.004328</td>\n",
       "      <td>-45.152027</td>\n",
       "      <td>-1.594590e-14</td>\n",
       "    </tr>\n",
       "    <tr>\n",
       "      <th>12</th>\n",
       "      <td>0.161827</td>\n",
       "      <td>0.002535</td>\n",
       "      <td>-44.715594</td>\n",
       "      <td>-3.707629e-15</td>\n",
       "    </tr>\n",
       "    <tr>\n",
       "      <th>13</th>\n",
       "      <td>0.155591</td>\n",
       "      <td>0.003651</td>\n",
       "      <td>-46.557985</td>\n",
       "      <td>-1.497854e-14</td>\n",
       "    </tr>\n",
       "    <tr>\n",
       "      <th>14</th>\n",
       "      <td>0.160760</td>\n",
       "      <td>0.002999</td>\n",
       "      <td>-44.785480</td>\n",
       "      <td>-6.978053e-15</td>\n",
       "    </tr>\n",
       "    <tr>\n",
       "      <th>15</th>\n",
       "      <td>0.159602</td>\n",
       "      <td>0.002518</td>\n",
       "      <td>-45.947621</td>\n",
       "      <td>-1.485461e-14</td>\n",
       "    </tr>\n",
       "    <tr>\n",
       "      <th>16</th>\n",
       "      <td>0.160293</td>\n",
       "      <td>0.003512</td>\n",
       "      <td>-46.318137</td>\n",
       "      <td>-1.536067e-14</td>\n",
       "    </tr>\n",
       "    <tr>\n",
       "      <th>17</th>\n",
       "      <td>0.157176</td>\n",
       "      <td>0.002002</td>\n",
       "      <td>-46.522810</td>\n",
       "      <td>-1.452068e-14</td>\n",
       "    </tr>\n",
       "    <tr>\n",
       "      <th>18</th>\n",
       "      <td>0.159815</td>\n",
       "      <td>0.003006</td>\n",
       "      <td>-47.569444</td>\n",
       "      <td>-1.522641e-14</td>\n",
       "    </tr>\n",
       "    <tr>\n",
       "      <th>19</th>\n",
       "      <td>0.163351</td>\n",
       "      <td>0.002778</td>\n",
       "      <td>-45.198321</td>\n",
       "      <td>-3.363373e-15</td>\n",
       "    </tr>\n",
       "    <tr>\n",
       "      <th>20</th>\n",
       "      <td>0.163939</td>\n",
       "      <td>0.002021</td>\n",
       "      <td>-46.130497</td>\n",
       "      <td>-2.939939e-15</td>\n",
       "    </tr>\n",
       "    <tr>\n",
       "      <th>21</th>\n",
       "      <td>0.162699</td>\n",
       "      <td>0.002748</td>\n",
       "      <td>-48.797644</td>\n",
       "      <td>-8.465235e-15</td>\n",
       "    </tr>\n",
       "    <tr>\n",
       "      <th>22</th>\n",
       "      <td>0.163709</td>\n",
       "      <td>0.003000</td>\n",
       "      <td>-46.682885</td>\n",
       "      <td>-3.797135e-15</td>\n",
       "    </tr>\n",
       "    <tr>\n",
       "      <th>23</th>\n",
       "      <td>0.153937</td>\n",
       "      <td>0.002008</td>\n",
       "      <td>-46.574577</td>\n",
       "      <td>-7.435912e-15</td>\n",
       "    </tr>\n",
       "    <tr>\n",
       "      <th>24</th>\n",
       "      <td>0.171971</td>\n",
       "      <td>0.005588</td>\n",
       "      <td>-46.327732</td>\n",
       "      <td>-1.011766e-14</td>\n",
       "    </tr>\n",
       "    <tr>\n",
       "      <th>25</th>\n",
       "      <td>0.176215</td>\n",
       "      <td>0.005751</td>\n",
       "      <td>-45.403218</td>\n",
       "      <td>-3.535501e-15</td>\n",
       "    </tr>\n",
       "    <tr>\n",
       "      <th>26</th>\n",
       "      <td>0.183682</td>\n",
       "      <td>0.002495</td>\n",
       "      <td>-44.965567</td>\n",
       "      <td>-1.369791e-14</td>\n",
       "    </tr>\n",
       "    <tr>\n",
       "      <th>27</th>\n",
       "      <td>0.176742</td>\n",
       "      <td>0.005006</td>\n",
       "      <td>-45.972543</td>\n",
       "      <td>-1.128813e-14</td>\n",
       "    </tr>\n",
       "    <tr>\n",
       "      <th>28</th>\n",
       "      <td>0.177857</td>\n",
       "      <td>0.006366</td>\n",
       "      <td>-44.898248</td>\n",
       "      <td>-1.148435e-14</td>\n",
       "    </tr>\n",
       "    <tr>\n",
       "      <th>29</th>\n",
       "      <td>0.171767</td>\n",
       "      <td>0.007373</td>\n",
       "      <td>-44.622452</td>\n",
       "      <td>-4.740394e-15</td>\n",
       "    </tr>\n",
       "  </tbody>\n",
       "</table>\n",
       "</div>"
      ],
      "text/plain": [
       "    fit_time  score_time  test_score   train_score\n",
       "0   0.163779    0.003814  -46.761697 -1.101272e-14\n",
       "1   0.165781    0.003824  -45.331120 -3.552714e-15\n",
       "2   0.155463    0.004234  -48.418862 -7.318866e-15\n",
       "3   0.164849    0.003165  -47.668819 -3.239441e-15\n",
       "4   0.152908    0.003000  -46.439042 -1.531247e-14\n",
       "5   0.160414    0.002519  -46.263681 -1.352579e-14\n",
       "6   0.158770    0.003008  -46.011019 -1.345005e-14\n",
       "7   0.158675    0.005005  -46.843043 -3.301407e-15\n",
       "8   0.164206    0.003015  -46.565642 -3.470092e-15\n",
       "9   0.168729    0.002512  -47.139163 -3.625007e-15\n",
       "10  0.165581    0.003567  -46.572645 -1.565328e-14\n",
       "11  0.176976    0.004328  -45.152027 -1.594590e-14\n",
       "12  0.161827    0.002535  -44.715594 -3.707629e-15\n",
       "13  0.155591    0.003651  -46.557985 -1.497854e-14\n",
       "14  0.160760    0.002999  -44.785480 -6.978053e-15\n",
       "15  0.159602    0.002518  -45.947621 -1.485461e-14\n",
       "16  0.160293    0.003512  -46.318137 -1.536067e-14\n",
       "17  0.157176    0.002002  -46.522810 -1.452068e-14\n",
       "18  0.159815    0.003006  -47.569444 -1.522641e-14\n",
       "19  0.163351    0.002778  -45.198321 -3.363373e-15\n",
       "20  0.163939    0.002021  -46.130497 -2.939939e-15\n",
       "21  0.162699    0.002748  -48.797644 -8.465235e-15\n",
       "22  0.163709    0.003000  -46.682885 -3.797135e-15\n",
       "23  0.153937    0.002008  -46.574577 -7.435912e-15\n",
       "24  0.171971    0.005588  -46.327732 -1.011766e-14\n",
       "25  0.176215    0.005751  -45.403218 -3.535501e-15\n",
       "26  0.183682    0.002495  -44.965567 -1.369791e-14\n",
       "27  0.176742    0.005006  -45.972543 -1.128813e-14\n",
       "28  0.177857    0.006366  -44.898248 -1.148435e-14\n",
       "29  0.171767    0.007373  -44.622452 -4.740394e-15"
      ]
     },
     "execution_count": 45,
     "metadata": {},
     "output_type": "execute_result"
    }
   ],
   "source": [
    "cv_results"
   ]
  },
  {
   "cell_type": "code",
   "execution_count": 46,
   "metadata": {},
   "outputs": [],
   "source": [
    "scores=pd.DataFrame()"
   ]
  },
  {
   "cell_type": "code",
   "execution_count": 47,
   "metadata": {},
   "outputs": [
    {
     "data": {
      "text/html": [
       "<div>\n",
       "<style scoped>\n",
       "    .dataframe tbody tr th:only-of-type {\n",
       "        vertical-align: middle;\n",
       "    }\n",
       "\n",
       "    .dataframe tbody tr th {\n",
       "        vertical-align: top;\n",
       "    }\n",
       "\n",
       "    .dataframe thead th {\n",
       "        text-align: right;\n",
       "    }\n",
       "</style>\n",
       "<table border=\"1\" class=\"dataframe\">\n",
       "  <thead>\n",
       "    <tr style=\"text-align: right;\">\n",
       "      <th></th>\n",
       "      <th>train_error</th>\n",
       "      <th>test_error</th>\n",
       "    </tr>\n",
       "  </thead>\n",
       "  <tbody>\n",
       "    <tr>\n",
       "      <th>0</th>\n",
       "      <td>1.101272e-14</td>\n",
       "      <td>46.761697</td>\n",
       "    </tr>\n",
       "    <tr>\n",
       "      <th>1</th>\n",
       "      <td>3.552714e-15</td>\n",
       "      <td>45.331120</td>\n",
       "    </tr>\n",
       "    <tr>\n",
       "      <th>2</th>\n",
       "      <td>7.318866e-15</td>\n",
       "      <td>48.418862</td>\n",
       "    </tr>\n",
       "    <tr>\n",
       "      <th>3</th>\n",
       "      <td>3.239441e-15</td>\n",
       "      <td>47.668819</td>\n",
       "    </tr>\n",
       "    <tr>\n",
       "      <th>4</th>\n",
       "      <td>1.531247e-14</td>\n",
       "      <td>46.439042</td>\n",
       "    </tr>\n",
       "    <tr>\n",
       "      <th>5</th>\n",
       "      <td>1.352579e-14</td>\n",
       "      <td>46.263681</td>\n",
       "    </tr>\n",
       "    <tr>\n",
       "      <th>6</th>\n",
       "      <td>1.345005e-14</td>\n",
       "      <td>46.011019</td>\n",
       "    </tr>\n",
       "    <tr>\n",
       "      <th>7</th>\n",
       "      <td>3.301407e-15</td>\n",
       "      <td>46.843043</td>\n",
       "    </tr>\n",
       "    <tr>\n",
       "      <th>8</th>\n",
       "      <td>3.470092e-15</td>\n",
       "      <td>46.565642</td>\n",
       "    </tr>\n",
       "    <tr>\n",
       "      <th>9</th>\n",
       "      <td>3.625007e-15</td>\n",
       "      <td>47.139163</td>\n",
       "    </tr>\n",
       "    <tr>\n",
       "      <th>10</th>\n",
       "      <td>1.565328e-14</td>\n",
       "      <td>46.572645</td>\n",
       "    </tr>\n",
       "    <tr>\n",
       "      <th>11</th>\n",
       "      <td>1.594590e-14</td>\n",
       "      <td>45.152027</td>\n",
       "    </tr>\n",
       "    <tr>\n",
       "      <th>12</th>\n",
       "      <td>3.707629e-15</td>\n",
       "      <td>44.715594</td>\n",
       "    </tr>\n",
       "    <tr>\n",
       "      <th>13</th>\n",
       "      <td>1.497854e-14</td>\n",
       "      <td>46.557985</td>\n",
       "    </tr>\n",
       "    <tr>\n",
       "      <th>14</th>\n",
       "      <td>6.978053e-15</td>\n",
       "      <td>44.785480</td>\n",
       "    </tr>\n",
       "    <tr>\n",
       "      <th>15</th>\n",
       "      <td>1.485461e-14</td>\n",
       "      <td>45.947621</td>\n",
       "    </tr>\n",
       "    <tr>\n",
       "      <th>16</th>\n",
       "      <td>1.536067e-14</td>\n",
       "      <td>46.318137</td>\n",
       "    </tr>\n",
       "    <tr>\n",
       "      <th>17</th>\n",
       "      <td>1.452068e-14</td>\n",
       "      <td>46.522810</td>\n",
       "    </tr>\n",
       "    <tr>\n",
       "      <th>18</th>\n",
       "      <td>1.522641e-14</td>\n",
       "      <td>47.569444</td>\n",
       "    </tr>\n",
       "    <tr>\n",
       "      <th>19</th>\n",
       "      <td>3.363373e-15</td>\n",
       "      <td>45.198321</td>\n",
       "    </tr>\n",
       "    <tr>\n",
       "      <th>20</th>\n",
       "      <td>2.939939e-15</td>\n",
       "      <td>46.130497</td>\n",
       "    </tr>\n",
       "    <tr>\n",
       "      <th>21</th>\n",
       "      <td>8.465235e-15</td>\n",
       "      <td>48.797644</td>\n",
       "    </tr>\n",
       "    <tr>\n",
       "      <th>22</th>\n",
       "      <td>3.797135e-15</td>\n",
       "      <td>46.682885</td>\n",
       "    </tr>\n",
       "    <tr>\n",
       "      <th>23</th>\n",
       "      <td>7.435912e-15</td>\n",
       "      <td>46.574577</td>\n",
       "    </tr>\n",
       "    <tr>\n",
       "      <th>24</th>\n",
       "      <td>1.011766e-14</td>\n",
       "      <td>46.327732</td>\n",
       "    </tr>\n",
       "    <tr>\n",
       "      <th>25</th>\n",
       "      <td>3.535501e-15</td>\n",
       "      <td>45.403218</td>\n",
       "    </tr>\n",
       "    <tr>\n",
       "      <th>26</th>\n",
       "      <td>1.369791e-14</td>\n",
       "      <td>44.965567</td>\n",
       "    </tr>\n",
       "    <tr>\n",
       "      <th>27</th>\n",
       "      <td>1.128813e-14</td>\n",
       "      <td>45.972543</td>\n",
       "    </tr>\n",
       "    <tr>\n",
       "      <th>28</th>\n",
       "      <td>1.148435e-14</td>\n",
       "      <td>44.898248</td>\n",
       "    </tr>\n",
       "    <tr>\n",
       "      <th>29</th>\n",
       "      <td>4.740394e-15</td>\n",
       "      <td>44.622452</td>\n",
       "    </tr>\n",
       "  </tbody>\n",
       "</table>\n",
       "</div>"
      ],
      "text/plain": [
       "     train_error  test_error\n",
       "0   1.101272e-14   46.761697\n",
       "1   3.552714e-15   45.331120\n",
       "2   7.318866e-15   48.418862\n",
       "3   3.239441e-15   47.668819\n",
       "4   1.531247e-14   46.439042\n",
       "5   1.352579e-14   46.263681\n",
       "6   1.345005e-14   46.011019\n",
       "7   3.301407e-15   46.843043\n",
       "8   3.470092e-15   46.565642\n",
       "9   3.625007e-15   47.139163\n",
       "10  1.565328e-14   46.572645\n",
       "11  1.594590e-14   45.152027\n",
       "12  3.707629e-15   44.715594\n",
       "13  1.497854e-14   46.557985\n",
       "14  6.978053e-15   44.785480\n",
       "15  1.485461e-14   45.947621\n",
       "16  1.536067e-14   46.318137\n",
       "17  1.452068e-14   46.522810\n",
       "18  1.522641e-14   47.569444\n",
       "19  3.363373e-15   45.198321\n",
       "20  2.939939e-15   46.130497\n",
       "21  8.465235e-15   48.797644\n",
       "22  3.797135e-15   46.682885\n",
       "23  7.435912e-15   46.574577\n",
       "24  1.011766e-14   46.327732\n",
       "25  3.535501e-15   45.403218\n",
       "26  1.369791e-14   44.965567\n",
       "27  1.128813e-14   45.972543\n",
       "28  1.148435e-14   44.898248\n",
       "29  4.740394e-15   44.622452"
      ]
     },
     "execution_count": 47,
     "metadata": {},
     "output_type": "execute_result"
    }
   ],
   "source": [
    "scores[[\"train_error\",\"test_error\"]]=-cv_results[[\"train_score\",\"test_score\"]]\n",
    "scores"
   ]
  },
  {
   "cell_type": "code",
   "execution_count": 48,
   "metadata": {},
   "outputs": [
    {
     "data": {
      "text/plain": [
       "<AxesSubplot: ylabel='Frequency'>"
      ]
     },
     "execution_count": 48,
     "metadata": {},
     "output_type": "execute_result"
    },
    {
     "data": {
      "image/png": "[encoded data removed]",
      "text/plain": [
       "<Figure size 640x480 with 1 Axes>"
      ]
     },
     "metadata": {},
     "output_type": "display_data"
    }
   ],
   "source": [
    "import matplotlib.pyplot as plt\n",
    "scores.plot.hist(bins = 50)"
   ]
  },
  {
   "cell_type": "code",
   "execution_count": 49,
   "metadata": {},
   "outputs": [],
   "source": [
    "from sklearn.model_selection import validation_curve"
   ]
  },
  {
   "cell_type": "code",
   "execution_count": 50,
   "metadata": {},
   "outputs": [],
   "source": [
    "max_depth=[1,5,10,15,20,25]"
   ]
  },
  {
   "cell_type": "code",
   "execution_count": 51,
   "metadata": {},
   "outputs": [],
   "source": [
    "from sklearn.model_selection import validation_curve\n",
    "# train_scores,test_scores=validation_curve()"
   ]
  },
  {
   "cell_type": "code",
   "execution_count": 52,
   "metadata": {},
   "outputs": [],
   "source": [
    "train_scores,test_scores=validation_curve(\n",
    "    regressor,\n",
    "    data,\n",
    "    target,\n",
    "    param_name=\"max_depth\",\n",
    "    param_range=max_depth,\n",
    "    cv=cv,\n",
    "    scoring=\"neg_mean_absolute_error\",\n",
    "    n_jobs=2\n",
    ")"
   ]
  },
  {
   "cell_type": "code",
   "execution_count": 53,
   "metadata": {},
   "outputs": [],
   "source": [
    "train_errors,test_errors=-train_scores,-test_scores"
   ]
  },
  {
   "cell_type": "code",
   "execution_count": 54,
   "metadata": {},
   "outputs": [
    {
     "data": {
      "text/plain": [
       "array([[74.61257095, 74.51084515, 74.70849463, 74.57963604, 74.6329636 ,\n",
       "        74.73363281, 74.49611684, 74.18945931, 74.77088047, 74.44815806,\n",
       "        74.52248107, 74.58975608, 74.08275378, 74.42560529, 74.49553859,\n",
       "        74.51896347, 74.65147948, 74.44639788, 74.30678347, 74.49067334,\n",
       "        74.52254771, 74.42432266, 74.27137746, 74.39846754, 74.62843047,\n",
       "        73.99628472, 74.4989207 , 74.59158239, 74.79833254, 74.50829375],\n",
       "       [50.55470643, 50.54110652, 51.18939628, 51.44842244, 51.27989594,\n",
       "        51.12809423, 51.01027299, 50.99022784, 51.36965577, 51.05783755,\n",
       "        50.23026362, 51.09292279, 50.78441785, 51.42742099, 51.33326041,\n",
       "        51.05737873, 51.04246054, 50.81773003, 51.08039034, 50.27075903,\n",
       "        51.11700383, 50.99929283, 51.49710959, 51.09270358, 51.2731989 ,\n",
       "        50.97983013, 50.65486687, 51.0740174 , 51.30479523, 50.75101512],\n",
       "       [31.08724941, 31.47136375, 31.96244853, 32.40824471, 32.04878641,\n",
       "        31.23765216, 32.53069984, 32.14534271, 32.50553504, 31.30702839,\n",
       "        31.62109127, 32.32109811, 31.63448387, 32.89837363, 33.44681553,\n",
       "        32.51520207, 32.26920076, 32.07517222, 31.05299253, 31.46943154,\n",
       "        32.85585688, 32.33452458, 32.28548159, 31.75848407, 31.35424308,\n",
       "        32.66167423, 31.17686559, 32.23220396, 32.31574645, 31.89954811],\n",
       "       [12.04338558, 13.07102612, 11.82488837, 12.25860826, 11.02762085,\n",
       "        11.34786093, 12.76108789, 12.19335278, 12.22946687, 11.92331551,\n",
       "        12.97298652, 12.29621986, 12.4515827 , 12.65452277, 13.2404575 ,\n",
       "        12.4218109 , 12.33627228, 12.30910517, 12.01790139, 12.6701314 ,\n",
       "        12.30218906, 12.52876238, 13.07339213, 13.21585186, 12.05633945,\n",
       "        12.36662142, 12.76013993, 12.65714445, 11.92736385, 13.0605373 ],\n",
       "       [ 2.28707834,  2.84842777,  2.42527916,  1.89285551,  1.66955894,\n",
       "         2.21135748,  2.32519862,  1.95430371,  1.99324852,  2.15211262,\n",
       "         2.54077201,  2.36652592,  2.26770695,  2.24817372,  2.36373894,\n",
       "         2.19311302,  2.15911949,  1.97377784,  2.38518707,  2.85541306,\n",
       "         1.98570104,  2.3717043 ,  2.18235701,  2.57359018,  2.04167353,\n",
       "         2.37272692,  2.44393811,  2.4112165 ,  2.032446  ,  2.77923409],\n",
       "       [ 0.27588813,  0.29735565,  0.32727479,  0.12843365,  0.10899865,\n",
       "         0.25111196,  0.094691  ,  0.12129956,  0.12654528,  0.20368847,\n",
       "         0.36448762,  0.22455054,  0.13167062,  0.1905514 ,  0.21559029,\n",
       "         0.26234524,  0.2181319 ,  0.13873092,  0.24056655,  0.31801934,\n",
       "         0.11376899,  0.26657045,  0.17531929,  0.21612809,  0.17663549,\n",
       "         0.28040167,  0.27294271,  0.24913364,  0.17195927,  0.29864603]])"
      ]
     },
     "execution_count": 54,
     "metadata": {},
     "output_type": "execute_result"
    }
   ],
   "source": [
    "train_errors"
   ]
  },
  {
   "cell_type": "code",
   "execution_count": 56,
   "metadata": {},
   "outputs": [
    {
     "data": {
      "text/plain": [
       "<ErrorbarContainer object of 3 artists>"
      ]
     },
     "execution_count": 56,
     "metadata": {},
     "output_type": "execute_result"
    },
    {
     "data": {
      "image/png": "[encoded data removed]",
      "text/plain": [
       "<Figure size 640x480 with 1 Axes>"
      ]
     },
     "metadata": {},
     "output_type": "display_data"
    }
   ],
   "source": [
    "plt.errorbar(max_depth,train_errors.mean(axis=1))"
   ]
  },
  {
   "cell_type": "code",
   "execution_count": null,
   "metadata": {},
   "outputs": [
    {
     "data": {
      "text/plain": [
       "array([744781.54636639, 508968.7245241 , 318703.22571698, 121920.77767901,\n",
       "        23034.06040011,   2111.63525091])"
      ]
     },
     "execution_count": 31,
     "metadata": {},
     "output_type": "execute_result"
    }
   ],
   "source": [
    "train_errors.mean(axis=1)"
   ]
  },
  {
   "cell_type": "code",
   "execution_count": null,
   "metadata": {},
   "outputs": [
    {
     "data": {
      "text/plain": [
       "array([2098.40197658, 3795.12212501, 6532.75592081, 3911.44939097,\n",
       "       1999.77363806,  577.05797074])"
      ]
     },
     "execution_count": 32,
     "metadata": {},
     "output_type": "execute_result"
    }
   ],
   "source": [
    "train_errors.std(axis=1)"
   ]
  },
  {
   "cell_type": "code",
   "execution_count": 58,
   "metadata": {},
   "outputs": [
    {
     "data": {
      "text/plain": [
       "<matplotlib.legend.Legend at 0x1a782a6eed0>"
      ]
     },
     "execution_count": 58,
     "metadata": {},
     "output_type": "execute_result"
    },
    {
     "data": {
      "image/png": "[encoded data removed]",
      "text/plain": [
       "<Figure size 640x480 with 1 Axes>"
      ]
     },
     "metadata": {},
     "output_type": "display_data"
    }
   ],
   "source": [
    "plt.errorbar(max_depth,train_errors.mean(axis=1),yerr=train_errors.std(axis=1), label=\"train error\")\n",
    "plt.errorbar(max_depth,test_errors.mean(axis=1), yerr=test_errors.std(axis=1),label = \"Test error\")\n",
    "plt.legend()"
   ]
  },
  {
   "attachments": {},
   "cell_type": "markdown",
   "metadata": {},
   "source": [
    "# Validation curve"
   ]
  },
  {
   "cell_type": "code",
   "execution_count": 64,
   "metadata": {},
   "outputs": [],
   "source": [
    "import numpy as np\n",
    "train_sizes=np.linspace(0.1,1.0,num=5,endpoint=True)"
   ]
  },
  {
   "cell_type": "code",
   "execution_count": 65,
   "metadata": {},
   "outputs": [
    {
     "name": "stdout",
     "output_type": "stream",
     "text": [
      "\u001b[1;31mSignature:\u001b[0m\n",
      "\u001b[0mnp\u001b[0m\u001b[1;33m.\u001b[0m\u001b[0mlinspace\u001b[0m\u001b[1;33m(\u001b[0m\u001b[1;33m\n",
      "\u001b[0m    \u001b[0mstart\u001b[0m\u001b[1;33m,\u001b[0m\u001b[1;33m\n",
      "\u001b[0m    \u001b[0mstop\u001b[0m\u001b[1;33m,\u001b[0m\u001b[1;33m\n",
      "\u001b[0m    \u001b[0mnum\u001b[0m\u001b[1;33m=\u001b[0m\u001b[1;36m50\u001b[0m\u001b[1;33m,\u001b[0m\u001b[1;33m\n",
      "\u001b[0m    \u001b[0mendpoint\u001b[0m\u001b[1;33m=\u001b[0m\u001b[1;32mTrue\u001b[0m\u001b[1;33m,\u001b[0m\u001b[1;33m\n",
      "\u001b[0m    \u001b[0mretstep\u001b[0m\u001b[1;33m=\u001b[0m\u001b[1;32mFalse\u001b[0m\u001b[1;33m,\u001b[0m\u001b[1;33m\n",
      "\u001b[0m    \u001b[0mdtype\u001b[0m\u001b[1;33m=\u001b[0m\u001b[1;32mNone\u001b[0m\u001b[1;33m,\u001b[0m\u001b[1;33m\n",
      "\u001b[0m    \u001b[0maxis\u001b[0m\u001b[1;33m=\u001b[0m\u001b[1;36m0\u001b[0m\u001b[1;33m,\u001b[0m\u001b[1;33m\n",
      "\u001b[0m\u001b[1;33m)\u001b[0m\u001b[1;33m\u001b[0m\u001b[1;33m\u001b[0m\u001b[0m\n",
      "\u001b[1;31mDocstring:\u001b[0m\n",
      "Return evenly spaced numbers over a specified interval.\n",
      "\n",
      "Returns `num` evenly spaced samples, calculated over the\n",
      "interval [`start`, `stop`].\n",
      "\n",
      "The endpoint of the interval can optionally be excluded.\n",
      "\n",
      ".. versionchanged:: 1.16.0\n",
      "    Non-scalar `start` and `stop` are now supported.\n",
      "\n",
      ".. versionchanged:: 1.20.0\n",
      "    Values are rounded towards ``-inf`` instead of ``0`` when an\n",
      "    integer ``dtype`` is specified. The old behavior can\n",
      "    still be obtained with ``np.linspace(start, stop, num).astype(int)``\n",
      "\n",
      "Parameters\n",
      "----------\n",
      "start : array_like\n",
      "    The starting value of the sequence.\n",
      "stop : array_like\n",
      "    The end value of the sequence, unless `endpoint` is set to False.\n",
      "    In that case, the sequence consists of all but the last of ``num + 1``\n",
      "    evenly spaced samples, so that `stop` is excluded.  Note that the step\n",
      "    size changes when `endpoint` is False.\n",
      "num : int, optional\n",
      "    Number of samples to generate. Default is 50. Must be non-negative.\n",
      "endpoint : bool, optional\n",
      "    If True, `stop` is the last sample. Otherwise, it is not included.\n",
      "    Default is True.\n",
      "retstep : bool, optional\n",
      "    If True, return (`samples`, `step`), where `step` is the spacing\n",
      "    between samples.\n",
      "dtype : dtype, optional\n",
      "    The type of the output array.  If `dtype` is not given, the data type\n",
      "    is inferred from `start` and `stop`. The inferred dtype will never be\n",
      "    an integer; `float` is chosen even if the arguments would produce an\n",
      "    array of integers.\n",
      "\n",
      "    .. versionadded:: 1.9.0\n",
      "\n",
      "axis : int, optional\n",
      "    The axis in the result to store the samples.  Relevant only if start\n",
      "    or stop are array-like.  By default (0), the samples will be along a\n",
      "    new axis inserted at the beginning. Use -1 to get an axis at the end.\n",
      "\n",
      "    .. versionadded:: 1.16.0\n",
      "\n",
      "Returns\n",
      "-------\n",
      "samples : ndarray\n",
      "    There are `num` equally spaced samples in the closed interval\n",
      "    ``[start, stop]`` or the half-open interval ``[start, stop)``\n",
      "    (depending on whether `endpoint` is True or False).\n",
      "step : float, optional\n",
      "    Only returned if `retstep` is True\n",
      "\n",
      "    Size of spacing between samples.\n",
      "\n",
      "\n",
      "See Also\n",
      "--------\n",
      "arange : Similar to `linspace`, but uses a step size (instead of the\n",
      "         number of samples).\n",
      "geomspace : Similar to `linspace`, but with numbers spaced evenly on a log\n",
      "            scale (a geometric progression).\n",
      "logspace : Similar to `geomspace`, but with the end points specified as\n",
      "           logarithms.\n",
      ":ref:`how-to-partition`\n",
      "\n",
      "Examples\n",
      "--------\n",
      ">>> np.linspace(2.0, 3.0, num=5)\n",
      "array([2.  , 2.25, 2.5 , 2.75, 3.  ])\n",
      ">>> np.linspace(2.0, 3.0, num=5, endpoint=False)\n",
      "array([2. ,  2.2,  2.4,  2.6,  2.8])\n",
      ">>> np.linspace(2.0, 3.0, num=5, retstep=True)\n",
      "(array([2.  ,  2.25,  2.5 ,  2.75,  3.  ]), 0.25)\n",
      "\n",
      "Graphical illustration:\n",
      "\n",
      ">>> import matplotlib.pyplot as plt\n",
      ">>> N = 8\n",
      ">>> y = np.zeros(N)\n",
      ">>> x1 = np.linspace(0, 10, N, endpoint=True)\n",
      ">>> x2 = np.linspace(0, 10, N, endpoint=False)\n",
      ">>> plt.plot(x1, y, 'o')\n",
      "[<matplotlib.lines.Line2D object at 0x...>]\n",
      ">>> plt.plot(x2, y + 0.5, 'o')\n",
      "[<matplotlib.lines.Line2D object at 0x...>]\n",
      ">>> plt.ylim([-0.5, 1])\n",
      "(-0.5, 1)\n",
      ">>> plt.show()\n",
      "\u001b[1;31mFile:\u001b[0m      c:\\users\\pirouz\\anaconda3\\envs\\scikit-learn-course\\lib\\site-packages\\numpy\\core\\function_base.py\n",
      "\u001b[1;31mType:\u001b[0m      function"
     ]
    }
   ],
   "source": [
    "?np.linspace"
   ]
  },
  {
   "cell_type": "code",
   "execution_count": 66,
   "metadata": {},
   "outputs": [
    {
     "data": {
      "text/plain": [
       "array([0.1  , 0.325, 0.55 , 0.775, 1.   ])"
      ]
     },
     "execution_count": 66,
     "metadata": {},
     "output_type": "execute_result"
    }
   ],
   "source": [
    "train_sizes"
   ]
  },
  {
   "cell_type": "code",
   "execution_count": 68,
   "metadata": {},
   "outputs": [],
   "source": [
    "cv=ShuffleSplit(n_splits=30, random_state=None, test_size=0.2, train_size=None)"
   ]
  },
  {
   "cell_type": "code",
   "execution_count": 69,
   "metadata": {},
   "outputs": [],
   "source": [
    "from sklearn.model_selection import learning_curve"
   ]
  },
  {
   "cell_type": "code",
   "execution_count": 71,
   "metadata": {},
   "outputs": [],
   "source": [
    "results=learning_curve(\n",
    "    regressor,\n",
    "    data,\n",
    "    target,\n",
    "    train_sizes=train_sizes,\n",
    "    cv=cv,\n",
    "    scoring=\"neg_mean_absolute_error\",\n",
    "    n_jobs=2\n",
    ")"
   ]
  },
  {
   "cell_type": "code",
   "execution_count": 73,
   "metadata": {},
   "outputs": [],
   "source": [
    "train_size,train_scores,test_scores=results[:3]"
   ]
  },
  {
   "cell_type": "code",
   "execution_count": 74,
   "metadata": {},
   "outputs": [
    {
     "data": {
      "text/plain": [
       "array([ 1651,  5366,  9081, 12796, 16512])"
      ]
     },
     "execution_count": 74,
     "metadata": {},
     "output_type": "execute_result"
    }
   ],
   "source": [
    "train_size"
   ]
  },
  {
   "cell_type": "code",
   "execution_count": 75,
   "metadata": {},
   "outputs": [
    {
     "data": {
      "text/plain": [
       "array([[-3.99384409e-15, -3.47739873e-15, -4.16599254e-15,\n",
       "        -3.06424245e-15, -4.40700037e-15, -5.06116449e-15,\n",
       "        -3.75283625e-15, -4.85458635e-15, -3.61511749e-15,\n",
       "        -3.64954718e-15, -3.23639090e-15, -5.88747706e-15,\n",
       "        -2.71994554e-15, -2.89209399e-15, -3.16753152e-15,\n",
       "        -4.37257068e-15, -3.99384409e-15, -3.78726594e-15,\n",
       "        -3.64954718e-15, -4.06270347e-15, -3.95941440e-15,\n",
       "        -3.02981276e-15, -3.85612533e-15, -3.82169564e-15,\n",
       "        -1.75591421e-15, -3.51182842e-15, -3.71840656e-15,\n",
       "        -3.09867214e-15, -4.75129728e-15, -3.09867214e-15],\n",
       "       [-3.29450303e-15, -2.68009411e-15, -4.14726025e-15,\n",
       "        -3.47458841e-15, -3.93009847e-15, -3.38984235e-15,\n",
       "        -3.86653893e-15, -3.23094349e-15, -3.55933446e-15,\n",
       "        -3.80297938e-15, -3.04026486e-15, -4.45976134e-15,\n",
       "        -3.68645355e-15, -2.83899297e-15, -3.04026486e-15,\n",
       "        -3.58052098e-15, -3.24153674e-15, -2.81780645e-15,\n",
       "        -3.23094349e-15, -3.01907834e-15, -4.13137036e-15,\n",
       "        -2.31992336e-15, -3.87713218e-15, -3.50636818e-15,\n",
       "        -3.80297938e-15, -3.26272326e-15, -3.45340189e-15,\n",
       "        -3.52755469e-15, -3.45340189e-15, -3.40043560e-15],\n",
       "       [-9.50207134e-15, -2.97956914e-15, -3.20491471e-15,\n",
       "        -3.06720353e-15, -3.58049065e-15, -9.17031259e-15,\n",
       "        -3.01086714e-15, -3.43026027e-15, -3.14231872e-15,\n",
       "        -3.41774107e-15, -3.61804824e-15, -3.66186544e-15,\n",
       "        -1.38900503e-14, -9.33932176e-15, -3.88095140e-15,\n",
       "        -3.16735711e-15, -1.40277614e-14, -3.54293306e-15,\n",
       "        -3.38644308e-15, -3.43651987e-15, -3.04842473e-15,\n",
       "        -3.35514508e-15, -3.51163506e-15, -3.07972273e-15,\n",
       "        -3.89973020e-15, -3.39896228e-15, -2.57269520e-15,\n",
       "        -3.31132789e-15, -3.19239551e-15, -3.33010669e-15],\n",
       "       [-1.13233725e-14, -3.25174919e-15, -1.76136414e-14,\n",
       "        -8.93953384e-15, -3.27396059e-15, -3.01186605e-15,\n",
       "        -1.39709716e-14, -1.73559892e-14, -3.38057532e-15,\n",
       "        -3.35836392e-15, -3.72707318e-15, -1.11767773e-14,\n",
       "        -1.58722676e-14, -3.24730691e-15, -3.15846130e-15,\n",
       "        -3.06073113e-15, -2.86971308e-15, -3.58047793e-15,\n",
       "        -3.30061427e-15, -1.27582291e-14, -3.42944040e-15,\n",
       "        -3.35836392e-15, -3.57159337e-15, -3.26063375e-15,\n",
       "        -3.10959622e-15, -3.10515394e-15, -3.11403850e-15,\n",
       "        -1.85287512e-14, -3.72707318e-15, -3.44720952e-15],\n",
       "       [-3.56820516e-15, -1.16805790e-14, -1.15291067e-14,\n",
       "        -3.22567124e-15, -1.50749353e-14, -3.09485426e-15,\n",
       "        -3.59746685e-15, -3.08452660e-15, -1.49131353e-14,\n",
       "        -1.54019777e-14, -3.71924713e-15, -3.50451795e-15,\n",
       "        -9.32931596e-15, -1.43038036e-14, -3.72828383e-15,\n",
       "        -1.49751013e-14, -1.32297274e-14, -1.31815317e-14,\n",
       "        -1.51988671e-14, -1.36738166e-14, -7.90754198e-15,\n",
       "        -3.63877748e-15, -3.18091806e-15, -8.99883097e-15,\n",
       "        -3.21878613e-15, -1.44793738e-14, -1.27077504e-14,\n",
       "        -1.17287747e-14, -3.65599024e-15, -3.38402863e-15]])"
      ]
     },
     "execution_count": 75,
     "metadata": {},
     "output_type": "execute_result"
    }
   ],
   "source": [
    "train_scores"
   ]
  },
  {
   "cell_type": "code",
   "execution_count": 76,
   "metadata": {},
   "outputs": [],
   "source": [
    "train_errors,test_errors=-train_scores,-test_scores"
   ]
  },
  {
   "cell_type": "code",
   "execution_count": 81,
   "metadata": {},
   "outputs": [
    {
     "data": {
      "text/plain": [
       "<matplotlib.legend.Legend at 0x1a7833567d0>"
      ]
     },
     "execution_count": 81,
     "metadata": {},
     "output_type": "execute_result"
    },
    {
     "data": {
      "image/png": "[encoded data removed]",
      "text/plain": [
       "<Figure size 640x480 with 1 Axes>"
      ]
     },
     "metadata": {},
     "output_type": "display_data"
    }
   ],
   "source": [
    "plt.errorbar(train_size,train_errors.mean(axis=1),yerr=train_errors.std(axis=1), label=\"train error\")\n",
    "plt.errorbar(train_size,test_errors.mean(axis=1),yerr=test_errors.std(axis=1), label=\"test error\")\n",
    "plt.legend()"
   ]
  }
 ],
 "metadata": {
  "kernelspec": {
   "display_name": "scikit-learn-course",
   "language": "python",
   "name": "python3"
  },
  "language_info": {
   "codemirror_mode": {
    "name": "ipython",
    "version": 3
   },
   "file_extension": ".py",
   "mimetype": "text/x-python",
   "name": "python",
   "nbconvert_exporter": "python",
   "pygments_lexer": "ipython3",
   "version": "3.11.0"
  },
  "orig_nbformat": 4,
  "vscode": {
   "interpreter": {
    "hash": "27b26e275e4136e28dc2ad937f9c072e10e8a0b1e9b90b40146ce03199647dbb"
   }
  }
 },
 "nbformat": 4,
 "nbformat_minor": 2
}
